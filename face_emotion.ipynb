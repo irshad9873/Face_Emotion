{
  "nbformat": 4,
  "nbformat_minor": 0,
  "metadata": {
    "colab": {
      "name": "face_emotion.ipynb",
      "private_outputs": true,
      "provenance": [],
      "collapsed_sections": [],
      "mount_file_id": "10c0DqDBiD8kW8VOk0SB7aklMwJwqQbG4",
      "authorship_tag": "ABX9TyNo6olbIW+/u7GDqKLTswJ9",
      "include_colab_link": true
    },
    "kernelspec": {
      "name": "python3",
      "display_name": "Python 3"
    },
    "language_info": {
      "name": "python"
    },
    "accelerator": "GPU"
  },
  "cells": [
    {
      "cell_type": "markdown",
      "metadata": {
        "id": "view-in-github",
        "colab_type": "text"
      },
      "source": [
        "<a href=\"https://colab.research.google.com/github/irshad9873/Face_Emotion/blob/main/face_emotion.ipynb\" target=\"_parent\"><img src=\"https://colab.research.google.com/assets/colab-badge.svg\" alt=\"Open In Colab\"/></a>"
      ]
    },
    {
      "cell_type": "code",
      "execution_count": null,
      "metadata": {
        "id": "H5EC2QWYqibk"
      },
      "outputs": [],
      "source": [
        "import tensorflow as tf\n",
        "import os\n",
        "import cv2\n",
        "import numpy as np\n",
        "import pandas as pd\n",
        "import matplotlib.pyplot as plt\n",
        "from keras.preprocessing.image import ImageDataGenerator, load_img\n",
        "from keras.layers import Conv2D, Dense, BatchNormalization, Activation, Dropout, MaxPooling2D, Flatten\n",
        "from tensorflow.keras.optimizers import Adam, RMSprop, SGD\n",
        "from keras.callbacks import ModelCheckpoint,EarlyStopping\n",
        "import datetime\n",
        "from keras import regularizers\n",
        "import matplotlib.pyplot as plt\n",
        "from keras.utils.vis_utils import plot_model\n",
        "from tensorflow import keras\n",
        "from tensorflow.keras import layers\n"
      ]
    },
    {
      "cell_type": "code",
      "source": [
        "test='/content/drive/MyDrive/FACEEMOTION/test'"
      ],
      "metadata": {
        "id": "9QJaLnRMs6zk"
      },
      "execution_count": null,
      "outputs": []
    },
    {
      "cell_type": "code",
      "source": [
        "train='/content/drive/MyDrive/FACEEMOTION/train'\n"
      ],
      "metadata": {
        "id": "U7b96ZW4tpA8"
      },
      "execution_count": null,
      "outputs": []
    },
    {
      "cell_type": "code",
      "source": [
        "Datadirectory=\"content/drive/MyDrive/FACEEMOTION\""
      ],
      "metadata": {
        "id": "lj_b0TgCvOMm"
      },
      "execution_count": null,
      "outputs": []
    },
    {
      "cell_type": "code",
      "source": [
        "classes=[\"0\",\"1\",\"2\",\"3\",\"4\",\"5\",\"6\"]"
      ],
      "metadata": {
        "id": "irbn0Fgvty67"
      },
      "execution_count": null,
      "outputs": []
    },
    {
      "cell_type": "code",
      "source": [
        "for category in classes:\n",
        "  path = os.path.join(test, category)\n",
        "  for img in os.listdir(path):\n",
        "    img_array = cv2.imread(os.path.join(path,img))\n",
        "    plt.imshow(cv2.cvtColor(img_array,cv2.COLOR_BGR2RGB))\n",
        "    plt.show()\n",
        "    break\n",
        "  break"
      ],
      "metadata": {
        "id": "2UVPx94-u_3B"
      },
      "execution_count": null,
      "outputs": []
    },
    {
      "cell_type": "code",
      "source": [
        "img_size=224\n",
        "new_array=cv2.resize(img_array,(img_size,img_size))\n",
        "plt.imshow(cv2.cvtColor(new_array,cv2.COLOR_BGR2RGB))\n",
        "plt.show()"
      ],
      "metadata": {
        "id": "-H9zDeHDwBof"
      },
      "execution_count": null,
      "outputs": []
    },
    {
      "cell_type": "markdown",
      "source": [
        "**read all images and convert them to array**"
      ],
      "metadata": {
        "id": "j0s6mOLXw7Qb"
      }
    },
    {
      "cell_type": "code",
      "source": [
        "traning_Data = []\n",
        "def create_traning_Data():\n",
        "  for category in classes:\n",
        "    path = os.path.join(test,category)\n",
        "    class_num = classes.index(category)\n",
        "    for img in os.listdir(path):\n",
        "      try:\n",
        "        img_array = cv2.imread(os.path.join(path,img))\n",
        "        new_array= cv2.resize(img_array,(img_size,img_size))\n",
        "        traning_Data.append([new_array,class_num])\n",
        "      except Exception as e:\n",
        "        pass\n",
        "\n"
      ],
      "metadata": {
        "id": "egWYf5eGw3Yd"
      },
      "execution_count": null,
      "outputs": []
    },
    {
      "cell_type": "code",
      "source": [
        "create_traning_Data()"
      ],
      "metadata": {
        "id": "ZL0TNwPTyqpV"
      },
      "execution_count": null,
      "outputs": []
    },
    {
      "cell_type": "code",
      "source": [
        "print(len(traning_Data))"
      ],
      "metadata": {
        "id": "ngG0tZnqyvKb"
      },
      "execution_count": null,
      "outputs": []
    },
    {
      "cell_type": "code",
      "source": [
        "import random\n",
        "random.shuffle(traning_Data)"
      ],
      "metadata": {
        "id": "7WZ54a1Py2hi"
      },
      "execution_count": null,
      "outputs": []
    },
    {
      "cell_type": "code",
      "source": [
        "x=[]\n",
        "y=[]\n",
        "for features,label in traning_Data:\n",
        "  x.append(features)\n",
        "  y.append(label)\n",
        "\n",
        "x=np.array(x).reshape(-1,img_size,img_size,3)"
      ],
      "metadata": {
        "id": "eZLNQ_UpzCR4"
      },
      "execution_count": null,
      "outputs": []
    },
    {
      "cell_type": "code",
      "source": [
        "x=np.array(x)\n",
        "y=np.array(y)"
      ],
      "metadata": {
        "id": "5CnXF6Dk8WBW"
      },
      "execution_count": null,
      "outputs": []
    },
    {
      "cell_type": "code",
      "source": [
        "x.shape"
      ],
      "metadata": {
        "id": "xhxDo_m319Po"
      },
      "execution_count": null,
      "outputs": []
    },
    {
      "cell_type": "markdown",
      "source": [
        "**Normalize the data **"
      ],
      "metadata": {
        "id": "zRh7k8dc2EII"
      }
    },
    {
      "cell_type": "code",
      "source": [
        "x=x/255.0;"
      ],
      "metadata": {
        "id": "_-6OjxbJ2AQO"
      },
      "execution_count": null,
      "outputs": []
    },
    {
      "cell_type": "code",
      "source": [
        "y[900]"
      ],
      "metadata": {
        "id": "ykkD4FLM2P3v"
      },
      "execution_count": null,
      "outputs": []
    },
    {
      "cell_type": "markdown",
      "source": [
        "**Deep learning model for traning-Tranfer learning**"
      ],
      "metadata": {
        "id": "GqaPb80T2vNA"
      }
    },
    {
      "cell_type": "code",
      "source": [
        "model = tf.keras.applications.MobileNetV2()\n"
      ],
      "metadata": {
        "id": "0lKF5sHw2YFd"
      },
      "execution_count": null,
      "outputs": []
    },
    {
      "cell_type": "code",
      "source": [
        "model.summary()"
      ],
      "metadata": {
        "id": "bC8fOvv53cVT"
      },
      "execution_count": null,
      "outputs": []
    },
    {
      "cell_type": "markdown",
      "source": [
        "**Transfer learning -Tuning ,weights will start from last check point**"
      ],
      "metadata": {
        "id": "WtJVXpq53rCh"
      }
    },
    {
      "cell_type": "code",
      "source": [
        "\n",
        "base_input=model.layers[0].input"
      ],
      "metadata": {
        "id": "fsC6dB4P3hV5"
      },
      "execution_count": null,
      "outputs": []
    },
    {
      "cell_type": "code",
      "source": [
        "base_output=model.layers[-2].output"
      ],
      "metadata": {
        "id": "shD5V7da4OaA"
      },
      "execution_count": null,
      "outputs": []
    },
    {
      "cell_type": "code",
      "source": [
        "final_output=layers.Dense(128)(base_output)#adding new laer, after the output of global pooling layes\n",
        "final_output=layers.Activation('relu')(final_output)# activation function\n",
        "final_output=layers.Dense(64)(final_output)\n",
        "final_output=layers.Activation('relu')(final_output)\n",
        "final_output=layers.Dense(7,activation='softmax')(final_output)#class are 0 to 7"
      ],
      "metadata": {
        "id": "MU3Lbp5M4by6"
      },
      "execution_count": null,
      "outputs": []
    },
    {
      "cell_type": "code",
      "source": [
        "final_output"
      ],
      "metadata": {
        "id": "zjJZDjK46IbJ"
      },
      "execution_count": null,
      "outputs": []
    },
    {
      "cell_type": "code",
      "source": [
        "new_model=keras.Model(inputs=base_input,outputs=final_output)\n"
      ],
      "metadata": {
        "id": "VpXZYhZT6RQm"
      },
      "execution_count": null,
      "outputs": []
    },
    {
      "cell_type": "code",
      "source": [
        "new_model.summary()"
      ],
      "metadata": {
        "id": "j1KbzMtM6l-8"
      },
      "execution_count": null,
      "outputs": []
    },
    {
      "cell_type": "code",
      "source": [
        "new_model.compile(loss=\"sparse_categorical_crossentropy\",optimizer=\"adam\",metrics=[\"accuracy\"])"
      ],
      "metadata": {
        "id": "7AAl4NDS6wwj"
      },
      "execution_count": null,
      "outputs": []
    },
    {
      "cell_type": "code",
      "source": [
        ""
      ],
      "metadata": {
        "id": "MFhNthQlp2eK"
      },
      "execution_count": null,
      "outputs": []
    }
  ]
}